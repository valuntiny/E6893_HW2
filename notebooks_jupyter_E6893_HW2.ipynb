{
 "cells": [
  {
   "cell_type": "markdown",
   "metadata": {},
   "source": [
    "**Guojing Wu** | UNI: gw2383 | *2019-10-15*\n",
    "\n",
    "# E6893 BIg Data Analytics Homework2\n",
    "\n",
    "## Question 1. Write a Spark program that implements a simple “People You Might Know” social network friendship recommendation algorithm. The key idea is that if two people have a lot of mutual friends, then the system should recommend that they connect with each other.\n",
    "\n",
    "Below is the implementation of recommendation algorithm on Spark"
   ]
  },
  {
   "cell_type": "code",
   "execution_count": 1,
   "metadata": {},
   "outputs": [],
   "source": [
    "from pyspark import SparkConf, SparkContext\n",
    "import pyspark\n",
    "import sys\n",
    "from collections import defaultdict\n",
    "from operator import itemgetter  # for sorted function"
   ]
  },
  {
   "cell_type": "code",
   "execution_count": 3,
   "metadata": {},
   "outputs": [],
   "source": [
    "def getData(sc, filename):\n",
    "    \"\"\"\n",
    "    Load data from raw text file into RDD and transform.\n",
    "    Hint: transfromation you will use: map(<lambda function>).\n",
    "    Args:\n",
    "        sc (SparkContext): spark context.\n",
    "        filename (string): hw2.txt cloud storage URI.\n",
    "    Returns:\n",
    "        RDD: RDD list of tuple of (<User>, [friend1, friend2, ... ]),\n",
    "        each user and a list of user's friends\n",
    "    \"\"\"\n",
    "    # read text file into RDD\n",
    "    data = sc.textFile(filename).map(lambda line: line.split('\\t'))\n",
    "\n",
    "    # TODO: implement your logic here\n",
    "    data = data.map(lambda tmp: (tmp[0], [num for num in tmp[1].split(',')]))\n",
    "\n",
    "    return data\n",
    "\n",
    "def mapFriends(line):\n",
    "    \"\"\"\n",
    "    List out every pair of mutual friends, also record direct friends.\n",
    "    Hint:\n",
    "    For each <User>, record direct friends into a list:\n",
    "    [(<User>, (friend1, 0)),(<User>, (friend2, 0)), ...],\n",
    "    where 0 means <User> and friend are already direct friend,\n",
    "    so you don't need to recommand each other.\n",
    "\n",
    "    For friends in the list, each of them has a friend <User> in common,\n",
    "    so for each of them, record mutual friend in both direction:\n",
    "    (friend1, (friend2, 1)), (friend2, (friend1, 1)),\n",
    "    where 1 means friend1 and friend2 has a mutual friend <User> in this \"line\"\n",
    "\n",
    "    There are possibly multiple output in each input line,\n",
    "    we applied flatMap to flatten them when using this function.\n",
    "    Args:\n",
    "        line (tuple): tuple in data RDD\n",
    "    Yields:\n",
    "        RDD: rdd like a list of (A, (B, 0)) or (A, (C, 1))\n",
    "    \"\"\"\n",
    "    friends = line[1]\n",
    "    for i in range(len(friends)):\n",
    "        # Direct friend\n",
    "        # TODO: implement your logic here\n",
    "        yield (line[0], (friends[i], 0))\n",
    "\n",
    "        for j in range(i+1, len(friends)):\n",
    "            # Mutual friend in both direction\n",
    "            # TODO: implement your logic here\n",
    "            yield (friends[i], (friends[j], 1))\n",
    "            \n",
    "def findMutual(line):\n",
    "    \"\"\"\n",
    "    Find top 10 mutual friend for each person.\n",
    "    Hint: For each <User>, input is a list of tuples of friend relations,\n",
    "    whether direct friend (count = 0) or has friend in common (count = 1)\n",
    "\n",
    "    Use friendDict to store the number of mutual friend that the current <User>\n",
    "    has in common with each other <User> in tuple.\n",
    "    Input:(User1, [(User2, 1), (User3, 1), (User2, 1), (User3, 0), (User2, 1)])\n",
    "    friendDict stores: {User2:3, User3:1}\n",
    "    directFriend stores: User3\n",
    "\n",
    "    If a user has many mutual frineds and is not a direct frined, we recommend\n",
    "    them to be friends.\n",
    "\n",
    "    Args:\n",
    "        line (tuple): a tuple of (<User1>, [(<User2>, 0), (<User3>, 1)....])\n",
    "    Returns:\n",
    "        RDD of tuple (line[0], returnList),\n",
    "        returnList is a list of recommended friends\n",
    "    \"\"\"\n",
    "    # friendDict, Key: user, value: count of mutual friends\n",
    "    friendDict = defaultdict(int)\n",
    "    # set of direct friends\n",
    "    directFriend = set()\n",
    "    # initialize return list\n",
    "    returnList = []\n",
    "\n",
    "    # TODO: Iterate through input to aggregate counts\n",
    "    # save to friendDict and directFriend\n",
    "    # friendList = line.map(lambda x : list(x[1])).collect()\n",
    "    for i in line[1]:\n",
    "        if i[1] == 0:\n",
    "            directFriend.add(i[0])\n",
    "        else:\n",
    "            friendDict[i[0]] += i[1]\n",
    "\n",
    "    # TODO: Formulate output\n",
    "    tmp = sorted(friendDict.items(), key=itemgetter(1,0))\n",
    "    \n",
    "    i = 0\n",
    "    while len(returnList) < 10 and i < len(tmp):\n",
    "        if tmp[i][0] not in directFriend:\n",
    "            returnList.append(tmp[i][0])\n",
    "        i += 1\n",
    "\n",
    "    return (int(line[0]), returnList)\n",
    "\n",
    "def main():\n",
    "    # Configure Spark\n",
    "    conf = SparkConf()\n",
    "    sc = pyspark.SparkContext.getOrCreate(conf=conf)\n",
    "    # The directory for the file\n",
    "    filename = \"gs://big_data_hw/hw2/q1.txt\"\n",
    "\n",
    "    # Get data in proper format\n",
    "    data = getData(sc, filename)\n",
    "\n",
    "    # Get set of all mutual friends\n",
    "    mapData = data.flatMap(mapFriends).groupByKey()\n",
    "\n",
    "    # For each person, get top 10 mutual friends\n",
    "    getFriends = mapData.map(findMutual)\n",
    "\n",
    "    # Only save the ones we want\n",
    "    wanted = [924, 8941, 8942, 9019, 49824, 13420, 44410, 8974, 5850, 9993]\n",
    "    result = getFriends.filter(lambda x: x[0] in wanted).collect()\n",
    "\n",
    "    sc.stop()\n",
    "\n",
    "if __name__ == \"__main__\":\n",
    "    main()"
   ]
  },
  {
   "cell_type": "code",
   "execution_count": 81,
   "metadata": {},
   "outputs": [
    {
     "name": "stdout",
     "output_type": "stream",
     "text": [
      "(5850, [u'13283', u'13286', u'13289', u'13291', u'13292', u'13293', u'13295', u'13296', u'13299', u'13302'])\n",
      "(9993, [u'13134', u'13478', u'13877', u'34299', u'34485', u'34642', u'37941'])\n",
      "(44410, [u'10328', u'10370', u'10579', u'14052', u'15356', u'15731', u'16663', u'16680', u'16910', u'16965'])\n",
      "(8974, [u'10318', u'10350', u'10471', u'10942', u'11030', u'11645', u'12109', u'12405', u'12430', u'12582'])\n",
      "(8941, [u'8943', u'8944'])\n",
      "(924, [u'11860', u'15416', u'2409', u'43748', u'45881', u'6995'])\n",
      "(49824, [u'49825', u'49826', u'49827', u'49828', u'49829', u'49830', u'49831', u'49832', u'49833', u'49835'])\n",
      "(9019, [u'9023', u'9022'])\n",
      "(13420, [u'10370', u'10454', u'10523', u'10526', u'107', u'10985', u'11181', u'11214', u'11369', u'11880'])\n",
      "(8942, [u'8943', u'8944'])\n"
     ]
    }
   ],
   "source": [
    "for i in result:\n",
    "    print(i)"
   ]
  },
  {
   "cell_type": "markdown",
   "metadata": {},
   "source": [
    "## Question 2. Graph Analysis (60%)\n",
    "Run Connected Components and PageRank with GraphFrames. You can refer to the GraphFrames documentation: https://graphframes.github.io/graphframes/docs/_site/index.html\n",
    "\n",
    "Connected Components (30%)\n",
    "The connected components algorithm labels each connected component of the graph with the ID of its lowest-numbered vertex. For example, in a social network, connected components can approximate clusters.\n",
    "\n",
    "Provide screenshots for the question (1) - (3). Use the dataset in Question 1."
   ]
  },
  {
   "cell_type": "code",
   "execution_count": 2,
   "metadata": {},
   "outputs": [
    {
     "ename": "ModuleNotFoundError",
     "evalue": "No module named 'graphframes'",
     "output_type": "error",
     "traceback": [
      "\u001b[0;31m---------------------------------------------------------------------------\u001b[0m",
      "\u001b[0;31mModuleNotFoundError\u001b[0m                       Traceback (most recent call last)",
      "\u001b[0;32m<ipython-input-2-1dfa114c536a>\u001b[0m in \u001b[0;36m<module>\u001b[0;34m\u001b[0m\n\u001b[0;32m----> 1\u001b[0;31m \u001b[0;32mfrom\u001b[0m \u001b[0mgraphframes\u001b[0m \u001b[0;32mimport\u001b[0m \u001b[0;34m*\u001b[0m  \u001b[0;31m# for graph analysis\u001b[0m\u001b[0;34m\u001b[0m\u001b[0;34m\u001b[0m\u001b[0m\n\u001b[0m\u001b[1;32m      2\u001b[0m \u001b[0;32mfrom\u001b[0m \u001b[0mpyspark\u001b[0m \u001b[0;32mimport\u001b[0m \u001b[0mSparkConf\u001b[0m\u001b[0;34m,\u001b[0m \u001b[0mSparkContext\u001b[0m\u001b[0;34m\u001b[0m\u001b[0;34m\u001b[0m\u001b[0m\n\u001b[1;32m      3\u001b[0m \u001b[0;32mimport\u001b[0m \u001b[0mpyspark\u001b[0m\u001b[0;34m\u001b[0m\u001b[0;34m\u001b[0m\u001b[0m\n\u001b[1;32m      4\u001b[0m \u001b[0;32mimport\u001b[0m \u001b[0msys\u001b[0m\u001b[0;34m\u001b[0m\u001b[0;34m\u001b[0m\u001b[0m\n\u001b[1;32m      5\u001b[0m \u001b[0;34m\u001b[0m\u001b[0m\n",
      "\u001b[0;31mModuleNotFoundError\u001b[0m: No module named 'graphframes'"
     ]
    }
   ],
   "source": [
    "from graphframes import *  # for graph analysis\n",
    "from pyspark import SparkConf, SparkContext\n",
    "import pyspark\n",
    "import sys\n",
    "\n",
    "def getData(sc, filename):\n",
    "    \"\"\"\n",
    "    Load data from raw text file into RDD and transform.\n",
    "    Hint: transfromation you will use: map(<lambda function>).\n",
    "    Args:\n",
    "        sc (SparkContext): spark context.\n",
    "        filename (string): hw2.txt cloud storage URI.\n",
    "    Returns:\n",
    "        RDD: RDD list of tuple of (<User>, [friend1, friend2, ... ]),\n",
    "        each user and a list of user's friends\n",
    "    \"\"\"\n",
    "    # read text file into RDD\n",
    "    data = sc.textFile(filename).map(lambda line: line.split('\\t'))\n",
    "\n",
    "    # TODO: implement your logic here\n",
    "    data = data.map(lambda tmp: (tmp[0], [num for num in tmp[1].split(',')]))\n",
    "\n",
    "    return data\n",
    "\n",
    "def getEdges(line):\n",
    "    \"\"\"\n",
    "    get edges from input data\n",
    "    \n",
    "    Args:\n",
    "        line (tuple): a tuple of (<User1>, [(<User2>, 0), (<User3>, 1)....])\n",
    "    Returns:\n",
    "        RDD of tuple (line[0], connected friend)\n",
    "    \"\"\"\n",
    "    friends = line[1]\n",
    "    for i in range(len(friends)):\n",
    "        # Direct friend\n",
    "        yield (line[0], friends[i])\n",
    "        \n",
    "conf = SparkConf()\n",
    "sc = pyspark.SparkContext.getOrCreate(conf=conf)\n",
    "sc.setCheckpointDir('/checkpoints')\n",
    "# The directory for the file\n",
    "filename = \"gs://big_data_hw/hw2/q1.txt\"\n",
    "\n",
    "# Get data in proper format\n",
    "data = getData(sc, filename)\n",
    "vertices = data.map(lambda x: (x[0],))\n",
    "edges = data.flatMap(getEdges)\n",
    "V = spark.createDataFrame(vertices, [\"id\"])\n",
    "E = spark.createDataFrame(edges, [\"src\", \"dst\"])\n",
    "G = GraphFrame(V, E)"
   ]
  },
  {
   "cell_type": "markdown",
   "metadata": {},
   "source": [
    "### 1. How many clusters / connected components in total for this dataset? (10%)"
   ]
  },
  {
   "cell_type": "code",
   "execution_count": 9,
   "metadata": {},
   "outputs": [
    {
     "data": {
      "text/plain": [
       "917"
      ]
     },
     "execution_count": 9,
     "metadata": {},
     "output_type": "execute_result"
    }
   ],
   "source": [
    "compo = G.connectedComponents()\n",
    "compo.select(\"component\").distinct().count()"
   ]
  },
  {
   "cell_type": "markdown",
   "metadata": {},
   "source": [
    "### 2. How many users in the top 10 clusters? There are different number of users in each clusters, so rank them and give the top 10 clusters with the largest amount of users. (10%)"
   ]
  },
  {
   "cell_type": "code",
   "execution_count": 14,
   "metadata": {},
   "outputs": [
    {
     "name": "stdout",
     "output_type": "stream",
     "text": [
      "+------------+-----+\n",
      "|   component|count|\n",
      "+------------+-----+\n",
      "|           0|48860|\n",
      "|         161|   66|\n",
      "| 42949673000|   31|\n",
      "|103079215141|   25|\n",
      "| 34359738423|   19|\n",
      "| 17179869446|   16|\n",
      "|         231|   13|\n",
      "|146028888124|    6|\n",
      "| 51539607798|    5|\n",
      "|618475290697|    4|\n",
      "+------------+-----+\n",
      "only showing top 10 rows\n",
      "\n"
     ]
    }
   ],
   "source": [
    "compo.groupBy(\"component\").count().sort(\"count\", ascending = False).show(10)"
   ]
  },
  {
   "cell_type": "markdown",
   "metadata": {},
   "source": [
    "### 3. What are the user ids for the cluster which has 25 users? Basically, list out all the 25 user IDs in that cluster. (10%)"
   ]
  },
  {
   "cell_type": "code",
   "execution_count": 18,
   "metadata": {},
   "outputs": [
    {
     "name": "stdout",
     "output_type": "stream",
     "text": [
      "+-----+------------+\n",
      "|   id|   component|\n",
      "+-----+------------+\n",
      "|18233|103079215141|\n",
      "|18234|103079215141|\n",
      "|18235|103079215141|\n",
      "|18236|103079215141|\n",
      "|18237|103079215141|\n",
      "|18238|103079215141|\n",
      "|18239|103079215141|\n",
      "|18240|103079215141|\n",
      "|18241|103079215141|\n",
      "|18242|103079215141|\n",
      "|18243|103079215141|\n",
      "|18244|103079215141|\n",
      "|18245|103079215141|\n",
      "|18246|103079215141|\n",
      "|18247|103079215141|\n",
      "|18248|103079215141|\n",
      "|18249|103079215141|\n",
      "|18250|103079215141|\n",
      "|18251|103079215141|\n",
      "|18252|103079215141|\n",
      "|18253|103079215141|\n",
      "|18254|103079215141|\n",
      "|18255|103079215141|\n",
      "|18256|103079215141|\n",
      "|18257|103079215141|\n",
      "+-----+------------+\n",
      "\n"
     ]
    }
   ],
   "source": [
    "compo.filter(compo[\"component\"] == 103079215141).show(25)"
   ]
  },
  {
   "cell_type": "markdown",
   "metadata": {},
   "source": [
    "### 4. Provide a list of 10 important users (User ID) in this network. Who is the most important one? Order by the “PageRank” value. Provide screenshots of this answer."
   ]
  },
  {
   "cell_type": "code",
   "execution_count": 6,
   "metadata": {},
   "outputs": [
    {
     "name": "stdout",
     "output_type": "stream",
     "text": [
      "+-----+------------------+\n",
      "|   id|          pagerank|\n",
      "+-----+------------------+\n",
      "|10164|17.932265192905074|\n",
      "|15496|15.411551200953372|\n",
      "|14689|13.533609243188113|\n",
      "|24966|13.153795397889654|\n",
      "| 7884| 12.62068681450054|\n",
      "|  934| 12.22837914431175|\n",
      "|45870|11.959292799812276|\n",
      "|20283|11.830120761106159|\n",
      "| 5148|11.739997940417085|\n",
      "|46039|11.657811775224305|\n",
      "+-----+------------------+\n",
      "only showing top 10 rows\n",
      "\n"
     ]
    }
   ],
   "source": [
    "PR = G.pageRank(resetProbability=0.15, maxIter=10)\n",
    "PR.vertices.orderBy(\"pagerank\", ascending = False).show(10)"
   ]
  },
  {
   "cell_type": "markdown",
   "metadata": {},
   "source": [
    "### 5. By using different parameter settings for PageRank, is there any difference? This is an open question, you can try as many as you want. Provide the screenshots of your tests"
   ]
  },
  {
   "cell_type": "code",
   "execution_count": 7,
   "metadata": {},
   "outputs": [
    {
     "name": "stdout",
     "output_type": "stream",
     "text": [
      "+-----+------------------+\n",
      "|   id|          pagerank|\n",
      "+-----+------------------+\n",
      "|10164|20.289348477101946|\n",
      "|15496| 17.35780416676058|\n",
      "|14689|15.014338627419084|\n",
      "|24966|14.007757357243849|\n",
      "| 7884|13.421221274573075|\n",
      "| 5148|13.210821740359101|\n",
      "|  934|13.202398410093826|\n",
      "|38123|13.086062601040028|\n",
      "|45870|12.459702216067162|\n",
      "|44815| 12.30306639081296|\n",
      "+-----+------------------+\n",
      "only showing top 10 rows\n",
      "\n"
     ]
    }
   ],
   "source": [
    "PR = G.pageRank(resetProbability=0.3, maxIter=10)\n",
    "PR.vertices.orderBy(\"pagerank\", ascending = False).show(10)"
   ]
  },
  {
   "cell_type": "code",
   "execution_count": 8,
   "metadata": {},
   "outputs": [
    {
     "name": "stdout",
     "output_type": "stream",
     "text": [
      "+-----+------------------+\n",
      "|   id|          pagerank|\n",
      "+-----+------------------+\n",
      "|10164| 18.05327786620178|\n",
      "|15496|15.437961938815786|\n",
      "|14689|13.521391484636682|\n",
      "|24966|  13.0758131881052|\n",
      "| 7884|12.501190157597295|\n",
      "|  934|12.177788449130206|\n",
      "|45870|11.865389614747667|\n",
      "| 5148|11.731889619503333|\n",
      "|20283|11.716038674581434|\n",
      "|38123|11.577887045651268|\n",
      "+-----+------------------+\n",
      "only showing top 10 rows\n",
      "\n"
     ]
    }
   ],
   "source": [
    "PR = G.pageRank(resetProbability=0.15, maxIter=20)\n",
    "PR.vertices.orderBy(\"pagerank\", ascending = False).show(10)"
   ]
  },
  {
   "cell_type": "markdown",
   "metadata": {},
   "source": [
    "### 6. Why this user become the most important one? What are the possible reasons? This is an open question, basically, understand how PageRank works. You can also use the result from the connected component to explain it.\n",
    "\n",
    "A user become more important when they have huge number of followers compare to the number of their followings, and that their followers shall also be `important` too. So when the user `10164` becomes the most important one, it must mean that this person have many important followers."
   ]
  },
  {
   "cell_type": "markdown",
   "metadata": {},
   "source": [
    "### 7. Given the graph and formula below, calculate 5 ID’s PageRank until convergence. (For each iteration, the values keep 2 decimals.)\n",
    "\n",
    "Incoming edges:\n",
    "\n",
    "* ID1: ID2\n",
    "\n",
    "* ID2: ID3, ID5\n",
    "\n",
    "* ID3: ID1, ID2, ID4, ID5\n",
    "\n",
    "* ID4: ID2\n",
    "\n",
    "* ID5: ID1, ID2\n",
    "\n",
    "Outgoing edges L():\n",
    "\n",
    "* L(ID1) = 2\n",
    "\n",
    "* L(ID2) = 4\n",
    "\n",
    "* L(ID3) = 1\n",
    "\n",
    "* L(ID4) = 1\n",
    "\n",
    "* L(ID5) = 2"
   ]
  },
  {
   "cell_type": "code",
   "execution_count": 76,
   "metadata": {},
   "outputs": [
    {
     "data": {
      "text/plain": [
       "0.07250000000000001"
      ]
     },
     "execution_count": 76,
     "metadata": {},
     "output_type": "execute_result"
    }
   ],
   "source": [
    "(1-0.85)/5 + 0.85 * (0.2 / 4)"
   ]
  },
  {
   "cell_type": "code",
   "execution_count": 77,
   "metadata": {},
   "outputs": [
    {
     "data": {
      "text/plain": [
       "0.28500000000000003"
      ]
     },
     "execution_count": 77,
     "metadata": {},
     "output_type": "execute_result"
    }
   ],
   "source": [
    "(1-0.85)/5 + 0.85 * (0.2 / 1 + 0.2 / 2)"
   ]
  },
  {
   "cell_type": "code",
   "execution_count": 78,
   "metadata": {},
   "outputs": [
    {
     "data": {
      "text/plain": [
       "0.4125000000000001"
      ]
     },
     "execution_count": 78,
     "metadata": {},
     "output_type": "execute_result"
    }
   ],
   "source": [
    "(1-0.85)/5 + 0.85 * (0.2 / 2 + 0.2 / 4 + 0.2 / 1 + 0.2 / 2)"
   ]
  },
  {
   "cell_type": "code",
   "execution_count": 79,
   "metadata": {},
   "outputs": [
    {
     "data": {
      "text/plain": [
       "0.07250000000000001"
      ]
     },
     "execution_count": 79,
     "metadata": {},
     "output_type": "execute_result"
    }
   ],
   "source": [
    "(1-0.85)/5 + 0.85 * (0.2 / 4)"
   ]
  },
  {
   "cell_type": "code",
   "execution_count": 80,
   "metadata": {},
   "outputs": [
    {
     "data": {
      "text/plain": [
       "0.1575"
      ]
     },
     "execution_count": 80,
     "metadata": {},
     "output_type": "execute_result"
    }
   ],
   "source": [
    "(1-0.85)/5 + 0.85 * (0.2 / 2 + 0.2 / 4)"
   ]
  },
  {
   "cell_type": "markdown",
   "metadata": {},
   "source": [
    "iteration 1:\n",
    "\n",
    "$$\n",
    "\\begin{split}\n",
    "PR(ID_{1}) &= \\frac{1 - 0.85}{5} + 0.85 \\cdot \\frac{0.2}{4} \\approx 0.07 \\\\\n",
    "PR(ID_{2}) &= \\frac{1 - 0.85}{5} + 0.85 \\cdot (\\frac{0.2}{1} + \\frac{0.2}{2}) \\approx 0.29 \\\\\n",
    "PR(ID_{3}) &= \\frac{1 - 0.85}{5} + 0.85 \\cdot (\\frac{0.2}{2} + \\frac{0.2}{4} + \\frac{0.2}{1} + \\frac{0.2}{2}) \\approx 0.41 \\\\\n",
    "PR(ID_{4}) &= \\frac{1 - 0.85}{5} + 0.85 \\cdot \\frac{0.2}{4} \\approx 0.07 \\\\\n",
    "PR(ID_{5}) &= \\frac{1 - 0.85}{5} + 0.85 \\cdot (\\frac{0.2}{2} + \\frac{0.2}{4}) \\approx 0.16 \\\\\n",
    "\\end{split}\n",
    "$$"
   ]
  },
  {
   "cell_type": "code",
   "execution_count": 82,
   "metadata": {},
   "outputs": [
    {
     "data": {
      "text/plain": [
       "0.091625"
      ]
     },
     "execution_count": 82,
     "metadata": {},
     "output_type": "execute_result"
    }
   ],
   "source": [
    "(1-0.85)/5 + 0.85 * (0.29 / 4)"
   ]
  },
  {
   "cell_type": "code",
   "execution_count": 84,
   "metadata": {},
   "outputs": [
    {
     "data": {
      "text/plain": [
       "0.4465"
      ]
     },
     "execution_count": 84,
     "metadata": {},
     "output_type": "execute_result"
    }
   ],
   "source": [
    "(1-0.85)/5 + 0.85 * (0.41 / 1 + 0.16 / 2)"
   ]
  },
  {
   "cell_type": "code",
   "execution_count": 85,
   "metadata": {},
   "outputs": [
    {
     "data": {
      "text/plain": [
       "0.24887499999999999"
      ]
     },
     "execution_count": 85,
     "metadata": {},
     "output_type": "execute_result"
    }
   ],
   "source": [
    "(1-0.85)/5 + 0.85 * (0.07 / 2 + 0.29 / 4 + 0.07 / 1 + 0.16 / 2)"
   ]
  },
  {
   "cell_type": "code",
   "execution_count": 86,
   "metadata": {},
   "outputs": [
    {
     "data": {
      "text/plain": [
       "0.091625"
      ]
     },
     "execution_count": 86,
     "metadata": {},
     "output_type": "execute_result"
    }
   ],
   "source": [
    "(1-0.85)/5 + 0.85 * (0.29 / 4)"
   ]
  },
  {
   "cell_type": "code",
   "execution_count": 87,
   "metadata": {},
   "outputs": [
    {
     "data": {
      "text/plain": [
       "0.12137500000000001"
      ]
     },
     "execution_count": 87,
     "metadata": {},
     "output_type": "execute_result"
    }
   ],
   "source": [
    "(1-0.85)/5 + 0.85 * (0.07 / 2 + 0.29 / 4)"
   ]
  },
  {
   "cell_type": "markdown",
   "metadata": {},
   "source": [
    "iteration 2:\n",
    "\n",
    "$$\n",
    "\\begin{split}\n",
    "PR(ID_{1}) &= \\frac{1 - 0.85}{5} + 0.85 \\cdot \\frac{0.029}{4} \\approx 0.09 \\\\\n",
    "PR(ID_{2}) &= \\frac{1 - 0.85}{5} + 0.85 \\cdot (\\frac{0.41}{1} + \\frac{0.16}{2}) \\approx 0.45 \\\\\n",
    "PR(ID_{3}) &= \\frac{1 - 0.85}{5} + 0.85 \\cdot (\\frac{0.07}{2} + \\frac{0.29}{4} + \\frac{0.07}{1} + \\frac{0.16}{2}) \\approx 0.25 \\\\\n",
    "PR(ID_{4}) &= \\frac{1 - 0.85}{5} + 0.85 \\cdot \\frac{0.29}{4} \\approx 0.09 \\\\\n",
    "PR(ID_{5}) &= \\frac{1 - 0.85}{5} + 0.85 \\cdot (\\frac{0.07}{2} + \\frac{0.29}{4}) \\approx 0.12 \\\\\n",
    "\\end{split}\n",
    "$$"
   ]
  },
  {
   "cell_type": "code",
   "execution_count": 88,
   "metadata": {},
   "outputs": [
    {
     "data": {
      "text/plain": [
       "0.12562500000000001"
      ]
     },
     "execution_count": 88,
     "metadata": {},
     "output_type": "execute_result"
    }
   ],
   "source": [
    "(1-0.85)/5 + 0.85 * (0.45 / 4)"
   ]
  },
  {
   "cell_type": "code",
   "execution_count": 89,
   "metadata": {},
   "outputs": [
    {
     "data": {
      "text/plain": [
       "0.29350000000000004"
      ]
     },
     "execution_count": 89,
     "metadata": {},
     "output_type": "execute_result"
    }
   ],
   "source": [
    "(1-0.85)/5 + 0.85 * (0.25 / 1 + 0.12 / 2)"
   ]
  },
  {
   "cell_type": "code",
   "execution_count": 90,
   "metadata": {},
   "outputs": [
    {
     "data": {
      "text/plain": [
       "0.291375"
      ]
     },
     "execution_count": 90,
     "metadata": {},
     "output_type": "execute_result"
    }
   ],
   "source": [
    "(1-0.85)/5 + 0.85 * (0.09 / 2 + 0.45 / 4 + 0.09 / 1 + 0.12 / 2)"
   ]
  },
  {
   "cell_type": "code",
   "execution_count": 91,
   "metadata": {},
   "outputs": [
    {
     "data": {
      "text/plain": [
       "0.12562500000000001"
      ]
     },
     "execution_count": 91,
     "metadata": {},
     "output_type": "execute_result"
    }
   ],
   "source": [
    "(1-0.85)/5 + 0.85 * (0.45 / 4)"
   ]
  },
  {
   "cell_type": "code",
   "execution_count": 92,
   "metadata": {},
   "outputs": [
    {
     "data": {
      "text/plain": [
       "0.163875"
      ]
     },
     "execution_count": 92,
     "metadata": {},
     "output_type": "execute_result"
    }
   ],
   "source": [
    "(1-0.85)/5 + 0.85 * (0.09 / 2 + 0.45 / 4)"
   ]
  },
  {
   "cell_type": "markdown",
   "metadata": {},
   "source": [
    "iteration 3:\n",
    "\n",
    "$$\n",
    "\\begin{split}\n",
    "PR(ID_{1}) &= \\frac{1 - 0.85}{5} + 0.85 \\cdot \\frac{0.45}{4} \\approx 0.13 \\\\\n",
    "PR(ID_{2}) &= \\frac{1 - 0.85}{5} + 0.85 \\cdot (\\frac{0.25}{1} + \\frac{0.12}{2}) \\approx 0.29 \\\\\n",
    "PR(ID_{3}) &= \\frac{1 - 0.85}{5} + 0.85 \\cdot (\\frac{0.09}{2} + \\frac{0.45}{4} + \\frac{0.09}{1} + \\frac{0.12}{2}) \\approx 0.29 \\\\\n",
    "PR(ID_{4}) &= \\frac{1 - 0.85}{5} + 0.85 \\cdot \\frac{0.45}{4} \\approx 0.13 \\\\\n",
    "PR(ID_{5}) &= \\frac{1 - 0.85}{5} + 0.85 \\cdot (\\frac{0.09}{2} + \\frac{0.45}{4}) \\approx 0.16 \\\\\n",
    "\\end{split}\n",
    "$$"
   ]
  },
  {
   "cell_type": "code",
   "execution_count": 93,
   "metadata": {},
   "outputs": [
    {
     "data": {
      "text/plain": [
       "0.091625"
      ]
     },
     "execution_count": 93,
     "metadata": {},
     "output_type": "execute_result"
    }
   ],
   "source": [
    "(1-0.85)/5 + 0.85 * (0.29 / 4)"
   ]
  },
  {
   "cell_type": "code",
   "execution_count": 94,
   "metadata": {},
   "outputs": [
    {
     "data": {
      "text/plain": [
       "0.34450000000000003"
      ]
     },
     "execution_count": 94,
     "metadata": {},
     "output_type": "execute_result"
    }
   ],
   "source": [
    "(1-0.85)/5 + 0.85 * (0.29 / 1 + 0.16 / 2)"
   ]
  },
  {
   "cell_type": "code",
   "execution_count": 95,
   "metadata": {},
   "outputs": [
    {
     "data": {
      "text/plain": [
       "0.325375"
      ]
     },
     "execution_count": 95,
     "metadata": {},
     "output_type": "execute_result"
    }
   ],
   "source": [
    "(1-0.85)/5 + 0.85 * (0.13 / 2 + 0.29 / 4 + 0.13 / 1 + 0.16/ 2)"
   ]
  },
  {
   "cell_type": "code",
   "execution_count": 70,
   "metadata": {},
   "outputs": [
    {
     "data": {
      "text/plain": [
       "0.091625"
      ]
     },
     "execution_count": 70,
     "metadata": {},
     "output_type": "execute_result"
    }
   ],
   "source": [
    "(1-0.85)/5 + 0.85 * (0.29 / 4)"
   ]
  },
  {
   "cell_type": "code",
   "execution_count": 96,
   "metadata": {},
   "outputs": [
    {
     "data": {
      "text/plain": [
       "0.146875"
      ]
     },
     "execution_count": 96,
     "metadata": {},
     "output_type": "execute_result"
    }
   ],
   "source": [
    "(1-0.85)/5 + 0.85 * (0.13 / 2 + 0.29 / 4)"
   ]
  },
  {
   "cell_type": "markdown",
   "metadata": {},
   "source": [
    "iteration 4:\n",
    "\n",
    "$$\n",
    "\\begin{split}\n",
    "PR(ID_{1}) &= \\frac{1 - 0.85}{5} + 0.85 \\cdot \\frac{0.29}{4} \\approx 0.09 \\\\\n",
    "PR(ID_{2}) &= \\frac{1 - 0.85}{5} + 0.85 \\cdot (\\frac{0.29}{1} + \\frac{0.16}{2}) \\approx 0.34 \\\\\n",
    "PR(ID_{3}) &= \\frac{1 - 0.85}{5} + 0.85 \\cdot (\\frac{0.13}{2} + \\frac{0.29}{4} + \\frac{0.13}{1} + \\frac{0.16}{2}) \\approx 0.33 \\\\\n",
    "PR(ID_{4}) &= \\frac{1 - 0.85}{5} + 0.85 \\cdot \\frac{0.29}{4} \\approx 0.09 \\\\\n",
    "PR(ID_{5}) &= \\frac{1 - 0.85}{5} + 0.85 \\cdot (\\frac{0.13}{2} + \\frac{0.45}{4}) \\approx 0.15 \\\\\n",
    "\\end{split}\n",
    "$$"
   ]
  },
  {
   "cell_type": "code",
   "execution_count": 97,
   "metadata": {},
   "outputs": [
    {
     "data": {
      "text/plain": [
       "0.10225000000000001"
      ]
     },
     "execution_count": 97,
     "metadata": {},
     "output_type": "execute_result"
    }
   ],
   "source": [
    "(1-0.85)/5 + 0.85 * (0.34 / 4)"
   ]
  },
  {
   "cell_type": "code",
   "execution_count": 98,
   "metadata": {},
   "outputs": [
    {
     "data": {
      "text/plain": [
       "0.37425"
      ]
     },
     "execution_count": 98,
     "metadata": {},
     "output_type": "execute_result"
    }
   ],
   "source": [
    "(1-0.85)/5 + 0.85 * (0.33 / 1 + 0.15 / 2)"
   ]
  },
  {
   "cell_type": "code",
   "execution_count": 99,
   "metadata": {},
   "outputs": [
    {
     "data": {
      "text/plain": [
       "0.28075"
      ]
     },
     "execution_count": 99,
     "metadata": {},
     "output_type": "execute_result"
    }
   ],
   "source": [
    "(1-0.85)/5 + 0.85 * (0.09 / 2 + 0.34 / 4 + 0.09 / 1 + 0.15/ 2)"
   ]
  },
  {
   "cell_type": "code",
   "execution_count": 100,
   "metadata": {},
   "outputs": [
    {
     "data": {
      "text/plain": [
       "0.10225000000000001"
      ]
     },
     "execution_count": 100,
     "metadata": {},
     "output_type": "execute_result"
    }
   ],
   "source": [
    "(1-0.85)/5 + 0.85 * (0.34 / 4)"
   ]
  },
  {
   "cell_type": "code",
   "execution_count": 101,
   "metadata": {},
   "outputs": [
    {
     "data": {
      "text/plain": [
       "0.138375"
      ]
     },
     "execution_count": 101,
     "metadata": {},
     "output_type": "execute_result"
    }
   ],
   "source": [
    "(1-0.85)/5 + 0.85 * (0.09 / 2 + 0.33 / 4)"
   ]
  },
  {
   "cell_type": "markdown",
   "metadata": {},
   "source": [
    "iteration 5:\n",
    "\n",
    "$$\n",
    "\\begin{split}\n",
    "PR(ID_{1}) &= \\frac{1 - 0.85}{5} + 0.85 \\cdot \\frac{0.34}{4} \\approx 0.1 \\\\\n",
    "PR(ID_{2}) &= \\frac{1 - 0.85}{5} + 0.85 \\cdot (\\frac{0.33}{1} + \\frac{0.15}{2}) \\approx 0.37 \\\\\n",
    "PR(ID_{3}) &= \\frac{1 - 0.85}{5} + 0.85 \\cdot (\\frac{0.09}{2} + \\frac{0.34}{4} + \\frac{0.09}{1} + \\frac{0.15}{2}) \\approx 0.28 \\\\\n",
    "PR(ID_{4}) &= \\frac{1 - 0.85}{5} + 0.85 \\cdot \\frac{0.34}{4} \\approx 0.1 \\\\\n",
    "PR(ID_{5}) &= \\frac{1 - 0.85}{5} + 0.85 \\cdot (\\frac{0.09}{2} + \\frac{0.33}{4}) \\approx 0.14 \\\\\n",
    "\\end{split}\n",
    "$$"
   ]
  },
  {
   "cell_type": "code",
   "execution_count": 102,
   "metadata": {},
   "outputs": [
    {
     "data": {
      "text/plain": [
       "0.108625"
      ]
     },
     "execution_count": 102,
     "metadata": {},
     "output_type": "execute_result"
    }
   ],
   "source": [
    "(1-0.85)/5 + 0.85 * (0.37 / 4)"
   ]
  },
  {
   "cell_type": "code",
   "execution_count": 103,
   "metadata": {},
   "outputs": [
    {
     "data": {
      "text/plain": [
       "0.32750000000000007"
      ]
     },
     "execution_count": 103,
     "metadata": {},
     "output_type": "execute_result"
    }
   ],
   "source": [
    "(1-0.85)/5 + 0.85 * (0.28 / 1 + 0.14 / 2)"
   ]
  },
  {
   "cell_type": "code",
   "execution_count": 104,
   "metadata": {},
   "outputs": [
    {
     "data": {
      "text/plain": [
       "0.295625"
      ]
     },
     "execution_count": 104,
     "metadata": {},
     "output_type": "execute_result"
    }
   ],
   "source": [
    "(1-0.85)/5 + 0.85 * (0.1 / 2 + 0.37 / 4 + 0.1 / 1 + 0.14 / 2)"
   ]
  },
  {
   "cell_type": "code",
   "execution_count": 105,
   "metadata": {},
   "outputs": [
    {
     "data": {
      "text/plain": [
       "0.108625"
      ]
     },
     "execution_count": 105,
     "metadata": {},
     "output_type": "execute_result"
    }
   ],
   "source": [
    "(1-0.85)/5 + 0.85 * (0.37 / 4)"
   ]
  },
  {
   "cell_type": "code",
   "execution_count": 106,
   "metadata": {},
   "outputs": [
    {
     "data": {
      "text/plain": [
       "0.132"
      ]
     },
     "execution_count": 106,
     "metadata": {},
     "output_type": "execute_result"
    }
   ],
   "source": [
    "(1-0.85)/5 + 0.85 * (0.1 / 2 + 0.28 / 4)"
   ]
  },
  {
   "cell_type": "markdown",
   "metadata": {},
   "source": [
    "iteration 6:\n",
    "\n",
    "$$\n",
    "\\begin{split}\n",
    "PR(ID_{1}) &= \\frac{1 - 0.85}{5} + 0.85 \\cdot \\frac{0.37}{4} \\approx 0.11 \\\\\n",
    "PR(ID_{2}) &= \\frac{1 - 0.85}{5} + 0.85 \\cdot (\\frac{0.28}{1} + \\frac{0.14}{2}) \\approx 0.33 \\\\\n",
    "PR(ID_{3}) &= \\frac{1 - 0.85}{5} + 0.85 \\cdot (\\frac{0.1}{2} + \\frac{0.37}{4} + \\frac{0.1}{1} + \\frac{0.14}{2}) \\approx 0.3 \\\\\n",
    "PR(ID_{4}) &= \\frac{1 - 0.85}{5} + 0.85 \\cdot \\frac{0.37}{4} \\approx 0.11 \\\\\n",
    "PR(ID_{5}) &= \\frac{1 - 0.85}{5} + 0.85 \\cdot (\\frac{0.1}{2} + \\frac{0.28}{4}) \\approx 0.13 \\\\\n",
    "\\end{split}\n",
    "$$"
   ]
  },
  {
   "cell_type": "code",
   "execution_count": 107,
   "metadata": {},
   "outputs": [
    {
     "data": {
      "text/plain": [
       "0.10012500000000002"
      ]
     },
     "execution_count": 107,
     "metadata": {},
     "output_type": "execute_result"
    }
   ],
   "source": [
    "(1-0.85)/5 + 0.85 * (0.33 / 4)"
   ]
  },
  {
   "cell_type": "code",
   "execution_count": 108,
   "metadata": {},
   "outputs": [
    {
     "data": {
      "text/plain": [
       "0.34025"
      ]
     },
     "execution_count": 108,
     "metadata": {},
     "output_type": "execute_result"
    }
   ],
   "source": [
    "(1-0.85)/5 + 0.85 * (0.3 / 1 + 0.13 / 2)"
   ]
  },
  {
   "cell_type": "code",
   "execution_count": 109,
   "metadata": {},
   "outputs": [
    {
     "data": {
      "text/plain": [
       "0.295625"
      ]
     },
     "execution_count": 109,
     "metadata": {},
     "output_type": "execute_result"
    }
   ],
   "source": [
    "(1-0.85)/5 + 0.85 * (0.11 / 2 + 0.33 / 4 + 0.11 / 1 + 0.13 / 2)"
   ]
  },
  {
   "cell_type": "code",
   "execution_count": 110,
   "metadata": {},
   "outputs": [
    {
     "data": {
      "text/plain": [
       "0.10012500000000002"
      ]
     },
     "execution_count": 110,
     "metadata": {},
     "output_type": "execute_result"
    }
   ],
   "source": [
    "(1-0.85)/5 + 0.85 * (0.33 / 4)"
   ]
  },
  {
   "cell_type": "code",
   "execution_count": 111,
   "metadata": {},
   "outputs": [
    {
     "data": {
      "text/plain": [
       "0.146875"
      ]
     },
     "execution_count": 111,
     "metadata": {},
     "output_type": "execute_result"
    }
   ],
   "source": [
    "(1-0.85)/5 + 0.85 * (0.11 / 2 + 0.33 / 4)"
   ]
  },
  {
   "cell_type": "markdown",
   "metadata": {},
   "source": [
    "iteration 7:\n",
    "\n",
    "$$\n",
    "\\begin{split}\n",
    "PR(ID_{1}) &= \\frac{1 - 0.85}{5} + 0.85 \\cdot \\frac{0.33}{4} \\approx 0.1 \\\\\n",
    "PR(ID_{2}) &= \\frac{1 - 0.85}{5} + 0.85 \\cdot (\\frac{0.3}{1} + \\frac{0.13}{2}) \\approx 0.34 \\\\\n",
    "PR(ID_{3}) &= \\frac{1 - 0.85}{5} + 0.85 \\cdot (\\frac{0.11}{2} + \\frac{0.33}{4} + \\frac{0.11}{1} + \\frac{0.13}{2}) \\approx 0.3 \\\\\n",
    "PR(ID_{4}) &= \\frac{1 - 0.85}{5} + 0.85 \\cdot \\frac{0.33}{4} \\approx 0.1 \\\\\n",
    "PR(ID_{5}) &= \\frac{1 - 0.85}{5} + 0.85 \\cdot (\\frac{0.11}{2} + \\frac{0.33}{4}) \\approx 0.14 \\\\\n",
    "\\end{split}\n",
    "$$"
   ]
  },
  {
   "cell_type": "code",
   "execution_count": 112,
   "metadata": {},
   "outputs": [
    {
     "data": {
      "text/plain": [
       "0.10225000000000001"
      ]
     },
     "execution_count": 112,
     "metadata": {},
     "output_type": "execute_result"
    }
   ],
   "source": [
    "(1-0.85)/5 + 0.85 * (0.34 / 4)"
   ]
  },
  {
   "cell_type": "code",
   "execution_count": 113,
   "metadata": {},
   "outputs": [
    {
     "data": {
      "text/plain": [
       "0.34450000000000003"
      ]
     },
     "execution_count": 113,
     "metadata": {},
     "output_type": "execute_result"
    }
   ],
   "source": [
    "(1-0.85)/5 + 0.85 * (0.3 / 1 + 0.14 / 2)"
   ]
  },
  {
   "cell_type": "code",
   "execution_count": 114,
   "metadata": {},
   "outputs": [
    {
     "data": {
      "text/plain": [
       "0.28925000000000006"
      ]
     },
     "execution_count": 114,
     "metadata": {},
     "output_type": "execute_result"
    }
   ],
   "source": [
    "(1-0.85)/5 + 0.85 * (0.1 / 2 + 0.34 / 4 + 0.1 / 1 + 0.14 / 2)"
   ]
  },
  {
   "cell_type": "code",
   "execution_count": 115,
   "metadata": {},
   "outputs": [
    {
     "data": {
      "text/plain": [
       "0.10225000000000001"
      ]
     },
     "execution_count": 115,
     "metadata": {},
     "output_type": "execute_result"
    }
   ],
   "source": [
    "(1-0.85)/5 + 0.85 * (0.34 / 4)"
   ]
  },
  {
   "cell_type": "code",
   "execution_count": 116,
   "metadata": {},
   "outputs": [
    {
     "data": {
      "text/plain": [
       "0.14475000000000002"
      ]
     },
     "execution_count": 116,
     "metadata": {},
     "output_type": "execute_result"
    }
   ],
   "source": [
    "(1-0.85)/5 + 0.85 * (0.1 / 2 + 0.34 / 4)"
   ]
  },
  {
   "cell_type": "markdown",
   "metadata": {},
   "source": [
    "iteration 8:\n",
    "\n",
    "$$\n",
    "\\begin{split}\n",
    "PR(ID_{1}) &= \\frac{1 - 0.85}{5} + 0.85 \\cdot \\frac{0.34}{4} \\approx 0.1 \\\\\n",
    "PR(ID_{2}) &= \\frac{1 - 0.85}{5} + 0.85 \\cdot (\\frac{0.3}{1} + \\frac{0.14}{2}) \\approx 0.34 \\\\\n",
    "PR(ID_{3}) &= \\frac{1 - 0.85}{5} + 0.85 \\cdot (\\frac{0.1}{2} + \\frac{0.34}{4} + \\frac{0.11}{1} + \\frac{0.14}{2}) \\approx 0.29 \\\\\n",
    "PR(ID_{4}) &= \\frac{1 - 0.85}{5} + 0.85 \\cdot \\frac{0.34}{4} \\approx 0.1 \\\\\n",
    "PR(ID_{5}) &= \\frac{1 - 0.85}{5} + 0.85 \\cdot (\\frac{0.1}{2} + \\frac{0.34}{4}) \\approx 0.14 \\\\\n",
    "\\end{split}\n",
    "$$"
   ]
  },
  {
   "cell_type": "code",
   "execution_count": 117,
   "metadata": {},
   "outputs": [
    {
     "data": {
      "text/plain": [
       "0.10225000000000001"
      ]
     },
     "execution_count": 117,
     "metadata": {},
     "output_type": "execute_result"
    }
   ],
   "source": [
    "(1-0.85)/5 + 0.85 * (0.34 / 4)"
   ]
  },
  {
   "cell_type": "code",
   "execution_count": 118,
   "metadata": {},
   "outputs": [
    {
     "data": {
      "text/plain": [
       "0.336"
      ]
     },
     "execution_count": 118,
     "metadata": {},
     "output_type": "execute_result"
    }
   ],
   "source": [
    "(1-0.85)/5 + 0.85 * (0.29 / 1 + 0.14 / 2)"
   ]
  },
  {
   "cell_type": "code",
   "execution_count": 119,
   "metadata": {},
   "outputs": [
    {
     "data": {
      "text/plain": [
       "0.28925000000000006"
      ]
     },
     "execution_count": 119,
     "metadata": {},
     "output_type": "execute_result"
    }
   ],
   "source": [
    "(1-0.85)/5 + 0.85 * (0.1 / 2 + 0.34 / 4 + 0.1 / 1 + 0.14 / 2)"
   ]
  },
  {
   "cell_type": "code",
   "execution_count": 120,
   "metadata": {},
   "outputs": [
    {
     "data": {
      "text/plain": [
       "0.10225000000000001"
      ]
     },
     "execution_count": 120,
     "metadata": {},
     "output_type": "execute_result"
    }
   ],
   "source": [
    "(1-0.85)/5 + 0.85 * (0.34 / 4)"
   ]
  },
  {
   "cell_type": "code",
   "execution_count": null,
   "metadata": {},
   "outputs": [],
   "source": [
    "(1-0.85)/5 + 0.85 * (0.1 / 2 + 0.34 / 4)"
   ]
  },
  {
   "cell_type": "markdown",
   "metadata": {},
   "source": [
    "iteration 9:\n",
    "\n",
    "$$\n",
    "\\begin{split}\n",
    "PR(ID_{1}) &= \\frac{1 - 0.85}{5} + 0.85 \\cdot \\frac{0.34}{4} \\approx 0.1 \\\\\n",
    "PR(ID_{2}) &= \\frac{1 - 0.85}{5} + 0.85 \\cdot (\\frac{0.29}{1} + \\frac{0.14}{2}) \\approx 0.34 \\\\\n",
    "PR(ID_{3}) &= \\frac{1 - 0.85}{5} + 0.85 \\cdot (\\frac{0.1}{2} + \\frac{0.34}{4} + \\frac{0.11}{1} + \\frac{0.14}{2}) \\approx 0.29 \\\\\n",
    "PR(ID_{4}) &= \\frac{1 - 0.85}{5} + 0.85 \\cdot \\frac{0.34}{4} \\approx 0.1 \\\\\n",
    "PR(ID_{5}) &= \\frac{1 - 0.85}{5} + 0.85 \\cdot (\\frac{0.1}{2} + \\frac{0.34}{4}) \\approx 0.14 \\\\\n",
    "\\end{split}\n",
    "$$"
   ]
  },
  {
   "cell_type": "code",
   "execution_count": null,
   "metadata": {},
   "outputs": [],
   "source": [
    "sc.stop()"
   ]
  }
 ],
 "metadata": {
  "kernelspec": {
   "display_name": "Python 3",
   "language": "python",
   "name": "python3"
  },
  "language_info": {
   "codemirror_mode": {
    "name": "ipython",
    "version": 3
   },
   "file_extension": ".py",
   "mimetype": "text/x-python",
   "name": "python",
   "nbconvert_exporter": "python",
   "pygments_lexer": "ipython3",
   "version": "3.7.1"
  }
 },
 "nbformat": 4,
 "nbformat_minor": 2
}
